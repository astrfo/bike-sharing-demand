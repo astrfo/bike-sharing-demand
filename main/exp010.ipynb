{
 "cells": [
  {
   "cell_type": "markdown",
   "metadata": {},
   "source": [
    "# exp010"
   ]
  },
  {
   "cell_type": "code",
   "execution_count": 98,
   "metadata": {},
   "outputs": [],
   "source": [
    "import numpy as np\n",
    "import pandas as pd\n",
    "from pathlib import Path\n",
    "import matplotlib.pyplot as plt\n",
    "import seaborn as sns\n",
    "from sklearn.model_selection import train_test_split, KFold\n",
    "from sklearn.metrics import mean_squared_log_error\n",
    "import lightgbm as lgb\n",
    "import xgboost as xgb\n",
    "\n",
    "sns.set_style(\"darkgrid\")\n",
    "%matplotlib inline"
   ]
  },
  {
   "cell_type": "markdown",
   "metadata": {},
   "source": [
    "## 実験設定"
   ]
  },
  {
   "cell_type": "code",
   "execution_count": 99,
   "metadata": {},
   "outputs": [],
   "source": [
    "class CONFIG:\n",
    "    seed = 42\n",
    "    n_splits = 5\n",
    "    num_boost_round = 10000\n",
    "    early_stopping_rounds = 10\n",
    "    learning_rate = 0.01\n",
    "    objective = \"regression\"\n",
    "    num_leaves = 32\n",
    "    period = 1000\n",
    "    exp_id = \"010\"\n",
    "    model_path = Path(f\"../output/model{exp_id}\")\n",
    "    model_path.mkdir(parents=True, exist_ok=True)\n",
    "    submission_path = Path(f\"../output/submission\")"
   ]
  },
  {
   "cell_type": "markdown",
   "metadata": {},
   "source": [
    "## データセットの読み込み"
   ]
  },
  {
   "cell_type": "code",
   "execution_count": 100,
   "metadata": {},
   "outputs": [],
   "source": [
    "input_path = Path(\"../input\")\n",
    "\n",
    "train_df = pd.read_parquet(input_path / \"train.parquet\")\n",
    "test_df = pd.read_parquet(input_path / \"test.parquet\")"
   ]
  },
  {
   "cell_type": "markdown",
   "metadata": {},
   "source": [
    "## RMSLEの定義"
   ]
  },
  {
   "cell_type": "code",
   "execution_count": 101,
   "metadata": {},
   "outputs": [],
   "source": [
    "def feval_rmsle(preds, data):\n",
    "    y_true = data.get_label()\n",
    "    preds = np.clip(preds, 0, None)  # 0より小さい値を0に置換\n",
    "    rmsle = np.sqrt(mean_squared_log_error(y_true, preds))\n",
    "    return 'RMSLE', rmsle, False"
   ]
  },
  {
   "cell_type": "markdown",
   "metadata": {},
   "source": [
    "## 特徴量エンジニアリング"
   ]
  },
  {
   "cell_type": "code",
   "execution_count": 102,
   "metadata": {},
   "outputs": [],
   "source": [
    "df = pd.concat([train_df, test_df], axis=0, sort=False).reset_index(drop=True)\n",
    "df = df.drop([\"casual\", \"registered\"], axis=1)"
   ]
  },
  {
   "cell_type": "code",
   "execution_count": 103,
   "metadata": {},
   "outputs": [],
   "source": [
    "datetime = pd.to_datetime(df[\"datetime\"])\n",
    "df[\"year\"] = datetime.dt.year\n",
    "df[\"month\"] = datetime.dt.month\n",
    "df[\"day\"] = datetime.dt.day\n",
    "df[\"hour\"] = datetime.dt.hour\n",
    "df[\"dayofweek\"] = datetime.dt.day_name()\n",
    "df[\"dayofweek\"] = df[\"dayofweek\"].map({\"Monday\": 0, \"Tuesday\": 1, \"Wednesday\": 2, \"Thursday\": 3, \"Friday\": 4, \"Saturday\": 5, \"Sunday\": 6})\n",
    "df = df.drop(\"datetime\", axis=1)"
   ]
  },
  {
   "cell_type": "code",
   "execution_count": 104,
   "metadata": {},
   "outputs": [],
   "source": [
    "df[\"count\"] = df[\"count\"].apply(lambda x: np.log(x))"
   ]
  },
  {
   "cell_type": "code",
   "execution_count": 105,
   "metadata": {},
   "outputs": [],
   "source": [
    "df['peak'] = df[['hour', 'workingday']].apply(lambda x: 1 if (x['workingday'] == 1 and (x['hour'] == 8 or 17 <= x['hour'] <= 18  or 12 <= x['hour'] <= 13)) \\\n",
    "                                        or (x['workingday'] == 0 and 10 <= x['hour'] <= 19) else 0, axis=1)"
   ]
  },
  {
   "cell_type": "code",
   "execution_count": 106,
   "metadata": {},
   "outputs": [],
   "source": [
    "train_df = df[~df[\"count\"].isnull()].reset_index(drop=True)\n",
    "test_df = df[df[\"count\"].isnull()].drop(\"count\", axis=1).reset_index(drop=True)"
   ]
  },
  {
   "cell_type": "markdown",
   "metadata": {},
   "source": [
    "## XGBoost train"
   ]
  },
  {
   "cell_type": "code",
   "execution_count": 107,
   "metadata": {},
   "outputs": [],
   "source": [
    "def xgb_train(df, model_path):\n",
    "    kf = KFold(n_splits=CONFIG.n_splits, shuffle=True, random_state=CONFIG.seed)\n",
    "    fold_rmsles = []\n",
    "\n",
    "    for fold, (train_index, valid_index) in enumerate(kf.split(df)):\n",
    "        print(f\"start training for fold {fold}\")\n",
    "\n",
    "        X_train = df.iloc[train_index].drop([\"count\"], axis=1)\n",
    "        y_train = df.iloc[train_index][\"count\"]\n",
    "\n",
    "        X_valid = df.iloc[valid_index].drop([\"count\"], axis=1)\n",
    "        y_valid = df.iloc[valid_index][\"count\"]\n",
    "\n",
    "        print(\"start training\")\n",
    "        params = {\n",
    "            \"objective\": \"reg:squarederror\",\n",
    "            \"seed\": CONFIG.seed,\n",
    "            \"learning_rate\": CONFIG.learning_rate,\n",
    "        }\n",
    "\n",
    "        dtrain = xgb.DMatrix(X_train, label=y_train)\n",
    "        dvalid = xgb.DMatrix(X_valid, label=y_valid)\n",
    "\n",
    "        watchlist = [(dtrain, 'train'), (dvalid, 'valid')]\n",
    "\n",
    "        model = xgb.train(\n",
    "            params=params,\n",
    "            dtrain=dtrain,\n",
    "            evals=watchlist,\n",
    "            num_boost_round=CONFIG.num_boost_round,\n",
    "            early_stopping_rounds=CONFIG.early_stopping_rounds,\n",
    "            verbose_eval=CONFIG.period\n",
    "        )\n",
    "\n",
    "        print(f\"predict valid for fold {fold}\")\n",
    "        y_pred = model.predict(dvalid)\n",
    "        y_pred = np.clip(y_pred, 0, None)\n",
    "        y_pred = np.exp(y_pred)\n",
    "        y_valid = np.exp(y_valid)\n",
    "\n",
    "        fold_rmsles.append(np.sqrt(mean_squared_log_error(y_valid, y_pred)))\n",
    "\n",
    "        print(f\"save model for fold {fold}\")\n",
    "        print(model.feature_names)\n",
    "        import time\n",
    "        time.sleep(5)\n",
    "        model.save_model(model_path / f\"xgb_model_fold{fold+1:03d}.bin\")\n",
    "\n",
    "    return sum(fold_rmsles) / len(fold_rmsles)"
   ]
  },
  {
   "cell_type": "code",
   "execution_count": 108,
   "metadata": {},
   "outputs": [
    {
     "name": "stdout",
     "output_type": "stream",
     "text": [
      "start training for fold 0\n",
      "start training\n",
      "[0]\ttrain-rmse:1.47153\tvalid-rmse:1.49394\n"
     ]
    },
    {
     "name": "stdout",
     "output_type": "stream",
     "text": [
      "[1000]\ttrain-rmse:0.24257\tvalid-rmse:0.31951\n",
      "[1177]\ttrain-rmse:0.23621\tvalid-rmse:0.31841\n",
      "predict valid for fold 0\n",
      "save model for fold 0\n",
      "['season', 'holiday', 'workingday', 'weather', 'temp', 'atemp', 'humidity', 'windspeed', 'year', 'month', 'day', 'hour', 'dayofweek', 'peak']\n",
      "start training for fold 1\n",
      "start training\n",
      "[0]\ttrain-rmse:1.48133\tvalid-rmse:1.45497\n"
     ]
    },
    {
     "name": "stderr",
     "output_type": "stream",
     "text": [
      "/Users/jun/Desktop/bike-sharing-demand/.venv/lib/python3.9/site-packages/xgboost/core.py:160: UserWarning: [13:05:48] WARNING: /Users/runner/work/xgboost/xgboost/src/c_api/c_api.cc:1240: Saving into deprecated binary model format, please consider using `json` or `ubj`. Model format will default to JSON in XGBoost 2.2 if not specified.\n",
      "  warnings.warn(smsg, UserWarning)\n"
     ]
    },
    {
     "name": "stdout",
     "output_type": "stream",
     "text": [
      "[1000]\ttrain-rmse:0.24061\tvalid-rmse:0.30751\n",
      "[1748]\ttrain-rmse:0.21233\tvalid-rmse:0.30169\n",
      "predict valid for fold 1\n",
      "save model for fold 1\n",
      "['season', 'holiday', 'workingday', 'weather', 'temp', 'atemp', 'humidity', 'windspeed', 'year', 'month', 'day', 'hour', 'dayofweek', 'peak']\n",
      "start training for fold 2\n",
      "start training\n",
      "[0]\ttrain-rmse:1.47318\tvalid-rmse:1.48733\n"
     ]
    },
    {
     "name": "stderr",
     "output_type": "stream",
     "text": [
      "/Users/jun/Desktop/bike-sharing-demand/.venv/lib/python3.9/site-packages/xgboost/core.py:160: UserWarning: [13:05:56] WARNING: /Users/runner/work/xgboost/xgboost/src/c_api/c_api.cc:1240: Saving into deprecated binary model format, please consider using `json` or `ubj`. Model format will default to JSON in XGBoost 2.2 if not specified.\n",
      "  warnings.warn(smsg, UserWarning)\n"
     ]
    },
    {
     "name": "stdout",
     "output_type": "stream",
     "text": [
      "[1000]\ttrain-rmse:0.23890\tvalid-rmse:0.32247\n",
      "[1378]\ttrain-rmse:0.22067\tvalid-rmse:0.31784\n",
      "predict valid for fold 2\n",
      "save model for fold 2\n",
      "['season', 'holiday', 'workingday', 'weather', 'temp', 'atemp', 'humidity', 'windspeed', 'year', 'month', 'day', 'hour', 'dayofweek', 'peak']\n",
      "start training for fold 3\n",
      "start training\n",
      "[0]\ttrain-rmse:1.48620\tvalid-rmse:1.43517\n"
     ]
    },
    {
     "name": "stderr",
     "output_type": "stream",
     "text": [
      "/Users/jun/Desktop/bike-sharing-demand/.venv/lib/python3.9/site-packages/xgboost/core.py:160: UserWarning: [13:06:04] WARNING: /Users/runner/work/xgboost/xgboost/src/c_api/c_api.cc:1240: Saving into deprecated binary model format, please consider using `json` or `ubj`. Model format will default to JSON in XGBoost 2.2 if not specified.\n",
      "  warnings.warn(smsg, UserWarning)\n"
     ]
    },
    {
     "name": "stdout",
     "output_type": "stream",
     "text": [
      "[1000]\ttrain-rmse:0.24275\tvalid-rmse:0.31568\n",
      "[1203]\ttrain-rmse:0.23359\tvalid-rmse:0.31388\n",
      "predict valid for fold 3\n",
      "save model for fold 3\n",
      "['season', 'holiday', 'workingday', 'weather', 'temp', 'atemp', 'humidity', 'windspeed', 'year', 'month', 'day', 'hour', 'dayofweek', 'peak']\n",
      "start training for fold 4\n",
      "start training\n",
      "[0]\ttrain-rmse:1.46757\tvalid-rmse:1.50949\n"
     ]
    },
    {
     "name": "stderr",
     "output_type": "stream",
     "text": [
      "/Users/jun/Desktop/bike-sharing-demand/.venv/lib/python3.9/site-packages/xgboost/core.py:160: UserWarning: [13:06:11] WARNING: /Users/runner/work/xgboost/xgboost/src/c_api/c_api.cc:1240: Saving into deprecated binary model format, please consider using `json` or `ubj`. Model format will default to JSON in XGBoost 2.2 if not specified.\n",
      "  warnings.warn(smsg, UserWarning)\n"
     ]
    },
    {
     "name": "stdout",
     "output_type": "stream",
     "text": [
      "[1000]\ttrain-rmse:0.24049\tvalid-rmse:0.31526\n",
      "[1179]\ttrain-rmse:0.23282\tvalid-rmse:0.31352\n",
      "predict valid for fold 4\n",
      "save model for fold 4\n",
      "['season', 'holiday', 'workingday', 'weather', 'temp', 'atemp', 'humidity', 'windspeed', 'year', 'month', 'day', 'hour', 'dayofweek', 'peak']\n",
      "XGBoost RMSLE: 0.28261464964654204\n"
     ]
    },
    {
     "name": "stderr",
     "output_type": "stream",
     "text": [
      "/Users/jun/Desktop/bike-sharing-demand/.venv/lib/python3.9/site-packages/xgboost/core.py:160: UserWarning: [13:06:18] WARNING: /Users/runner/work/xgboost/xgboost/src/c_api/c_api.cc:1240: Saving into deprecated binary model format, please consider using `json` or `ubj`. Model format will default to JSON in XGBoost 2.2 if not specified.\n",
      "  warnings.warn(smsg, UserWarning)\n"
     ]
    }
   ],
   "source": [
    "train_rmsle = xgb_train(train_df, CONFIG.model_path)\n",
    "print(f\"XGBoost RMSLE: {train_rmsle}\")"
   ]
  },
  {
   "cell_type": "markdown",
   "metadata": {},
   "source": [
    "## XGBoost evaluate"
   ]
  },
  {
   "cell_type": "code",
   "execution_count": 109,
   "metadata": {},
   "outputs": [],
   "source": [
    "def xgb_evaluate(df, model_path):\n",
    "    predictions = []\n",
    "\n",
    "    for fold in range(CONFIG.n_splits):\n",
    "        print(f\"loading model for fold {fold}\")\n",
    "        model = xgb.Booster(model_file=model_path / f\"xgb_model_fold{fold+1:03d}.bin\")\n",
    "\n",
    "        print(f\"start evaluate for fold {fold}\")\n",
    "        dtest = xgb.DMatrix(df)\n",
    "\n",
    "        print(f\"predict test for fold {fold}\")\n",
    "        y_pred = model.predict(dtest)\n",
    "        y_pred = np.clip(y_pred, 0, None)\n",
    "        y_pred = np.exp(y_pred)\n",
    "        predictions.append(y_pred)\n",
    "\n",
    "    average_predictions = np.mean(predictions, axis=0)\n",
    "    return average_predictions"
   ]
  },
  {
   "cell_type": "code",
   "execution_count": 110,
   "metadata": {},
   "outputs": [
    {
     "name": "stdout",
     "output_type": "stream",
     "text": [
      "loading model for fold 0\n",
      "start evaluate for fold 0\n",
      "predict test for fold 0\n",
      "loading model for fold 1\n",
      "start evaluate for fold 1\n",
      "predict test for fold 1\n",
      "loading model for fold 2\n",
      "start evaluate for fold 2\n",
      "predict test for fold 2\n",
      "loading model for fold 3\n",
      "start evaluate for fold 3\n",
      "predict test for fold 3\n",
      "loading model for fold 4\n",
      "start evaluate for fold 4\n",
      "predict test for fold 4\n"
     ]
    },
    {
     "data": {
      "text/plain": [
       "array([ 10.222393 ,   4.9416137,   3.446795 , ..., 121.045555 ,\n",
       "        94.42409  ,  51.65867  ], dtype=float32)"
      ]
     },
     "execution_count": 110,
     "metadata": {},
     "output_type": "execute_result"
    }
   ],
   "source": [
    "y_pred_xgb = xgb_evaluate(test_df, CONFIG.model_path)\n",
    "y_pred_xgb"
   ]
  },
  {
   "cell_type": "code",
   "execution_count": 111,
   "metadata": {},
   "outputs": [],
   "source": [
    "submission = pd.read_csv(input_path / \"sampleSubmission.csv\")\n",
    "submission[\"count\"] = y_pred\n",
    "submission.to_csv(CONFIG.submission_path / f\"submission{CONFIG.exp_id}.csv\", index=False)"
   ]
  },
  {
   "cell_type": "markdown",
   "metadata": {},
   "source": [
    "## Result"
   ]
  },
  {
   "cell_type": "code",
   "execution_count": 112,
   "metadata": {},
   "outputs": [
    {
     "data": {
      "image/png": "[encoded data removed]",
      "text/plain": [
       "<Figure size 500x1000 with 1 Axes>"
      ]
     },
     "metadata": {},
     "output_type": "display_data"
    }
   ],
   "source": [
    "model = xgb.Booster(model_file=str(CONFIG.model_path / f\"xgb_model_fold001.bin\"))\n",
    "importance_df = pd.DataFrame()\n",
    "\n",
    "importance_df[\"importance\"] = model.get_score(importance_type=\"gain\").values()\n",
    "importance_df[\"feature_name\"] = model.get_score(importance_type=\"gain\").keys()\n",
    "importance_df = importance_df.sort_values(\"importance\", ascending=False)\n",
    "\n",
    "fig = plt.figure(figsize=(5, 10))\n",
    "sns.barplot(data=importance_df, x=\"importance\", y=\"feature_name\")\n",
    "plt.show()"
   ]
  },
  {
   "cell_type": "code",
   "execution_count": null,
   "metadata": {},
   "outputs": [],
   "source": []
  }
 ],
 "metadata": {
  "kernelspec": {
   "display_name": ".venv",
   "language": "python",
   "name": "python3"
  },
  "language_info": {
   "codemirror_mode": {
    "name": "ipython",
    "version": 3
   },
   "file_extension": ".py",
   "mimetype": "text/x-python",
   "name": "python",
   "nbconvert_exporter": "python",
   "pygments_lexer": "ipython3",
   "version": "3.9.16"
  }
 },
 "nbformat": 4,
 "nbformat_minor": 2
}
