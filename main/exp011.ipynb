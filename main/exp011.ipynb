{
 "cells": [
  {
   "cell_type": "markdown",
   "metadata": {},
   "source": [
    "# exp011"
   ]
  },
  {
   "cell_type": "code",
   "execution_count": 237,
   "metadata": {},
   "outputs": [],
   "source": [
    "import numpy as np\n",
    "import pandas as pd\n",
    "from pathlib import Path\n",
    "import matplotlib.pyplot as plt\n",
    "import seaborn as sns\n",
    "from sklearn.model_selection import train_test_split, KFold\n",
    "from sklearn.metrics import mean_squared_log_error\n",
    "import lightgbm as lgb\n",
    "import xgboost as xgb\n",
    "\n",
    "sns.set_style(\"darkgrid\")\n",
    "%matplotlib inline"
   ]
  },
  {
   "cell_type": "markdown",
   "metadata": {},
   "source": [
    "## 実験設定"
   ]
  },
  {
   "cell_type": "code",
   "execution_count": 259,
   "metadata": {},
   "outputs": [],
   "source": [
    "class CONFIG:\n",
    "    seed = 42\n",
    "    n_splits = 5\n",
    "    num_boost_round = 10000\n",
    "    early_stopping_rounds = 10\n",
    "    learning_rate = 0.01\n",
    "    objective = \"regression\"\n",
    "    num_leaves = 32\n",
    "    max_depth = 6\n",
    "    period = 1000\n",
    "    exp_id = \"011\"\n",
    "    model_path = Path(f\"../output/model{exp_id}\")\n",
    "    model_path.mkdir(parents=True, exist_ok=True)\n",
    "    submission_path = Path(f\"../output/submission\")"
   ]
  },
  {
   "cell_type": "code",
   "execution_count": 239,
   "metadata": {},
   "outputs": [],
   "source": [
    "input_path = Path(\"../input\")\n",
    "\n",
    "train_df = pd.read_parquet(input_path / \"train.parquet\")\n",
    "test_df = pd.read_parquet(input_path / \"test.parquet\")"
   ]
  },
  {
   "cell_type": "markdown",
   "metadata": {},
   "source": [
    "## RMSLEの定義"
   ]
  },
  {
   "cell_type": "code",
   "execution_count": 240,
   "metadata": {},
   "outputs": [],
   "source": [
    "def feval_rmsle(preds, data):\n",
    "    y_true = data.get_label()\n",
    "    preds = np.clip(preds, 0, None)  # 0より小さい値を0に置換\n",
    "    rmsle = np.sqrt(mean_squared_log_error(y_true, preds))\n",
    "    return 'RMSLE', rmsle, False"
   ]
  },
  {
   "cell_type": "markdown",
   "metadata": {},
   "source": [
    "## 特徴量エンジニアリング"
   ]
  },
  {
   "cell_type": "code",
   "execution_count": 241,
   "metadata": {},
   "outputs": [],
   "source": [
    "df = pd.concat([train_df, test_df], axis=0, sort=False).reset_index(drop=True)\n",
    "df = df.drop([\"casual\", \"registered\"], axis=1)"
   ]
  },
  {
   "cell_type": "code",
   "execution_count": 242,
   "metadata": {},
   "outputs": [],
   "source": [
    "datetime = pd.to_datetime(df[\"datetime\"])\n",
    "df[\"year\"] = datetime.dt.year\n",
    "df[\"month\"] = datetime.dt.month\n",
    "df[\"day\"] = datetime.dt.day\n",
    "df[\"hour\"] = datetime.dt.hour\n",
    "df[\"dayofweek\"] = datetime.dt.day_name()\n",
    "df[\"dayofweek\"] = df[\"dayofweek\"].map({\"Monday\": 0, \"Tuesday\": 1, \"Wednesday\": 2, \"Thursday\": 3, \"Friday\": 4, \"Saturday\": 5, \"Sunday\": 6})\n",
    "df = df.drop(\"datetime\", axis=1)"
   ]
  },
  {
   "cell_type": "code",
   "execution_count": 243,
   "metadata": {},
   "outputs": [],
   "source": [
    "df[\"count\"] = df[\"count\"].apply(lambda x: np.log(x))"
   ]
  },
  {
   "cell_type": "code",
   "execution_count": 244,
   "metadata": {},
   "outputs": [],
   "source": [
    "df['peak'] = df[['hour', 'workingday']].apply(lambda x: 1 if (x['workingday'] == 1 and (x['hour'] == 8 or 17 <= x['hour'] <= 18  or 12 <= x['hour'] <= 13)) \\\n",
    "                                        or (x['workingday'] == 0 and 10 <= x['hour'] <= 19) else 0, axis=1)"
   ]
  },
  {
   "cell_type": "code",
   "execution_count": 245,
   "metadata": {},
   "outputs": [],
   "source": [
    "agg_numeric_feature = [\"temp\", \"atemp\", \"humidity\", \"windspeed\"]\n",
    "function = [\"std\", \"mean\", \"max\"]\n",
    "\n",
    "for col in agg_numeric_feature:\n",
    "    for func in function:\n",
    "        agg_df = df.groupby(\"hour\").agg({col: func}).reset_index().rename(columns={col: f\"{col}_{func}\"})\n",
    "        df = df.merge(agg_df, on=\"hour\", how=\"left\")"
   ]
  },
  {
   "cell_type": "code",
   "execution_count": 246,
   "metadata": {},
   "outputs": [],
   "source": [
    "train_df = df[~df[\"count\"].isnull()].reset_index(drop=True)\n",
    "test_df = df[df[\"count\"].isnull()].drop(\"count\", axis=1).reset_index(drop=True)"
   ]
  },
  {
   "cell_type": "markdown",
   "metadata": {},
   "source": [
    "## LightGBM train"
   ]
  },
  {
   "cell_type": "code",
   "execution_count": 247,
   "metadata": {},
   "outputs": [],
   "source": [
    "def lgb_train(df, model_path):\n",
    "    kf = KFold(n_splits=CONFIG.n_splits, shuffle=True, random_state=CONFIG.seed)\n",
    "    fold_rmsles = []\n",
    "\n",
    "    for fold, (train_index, valid_index) in enumerate(kf.split(df)):\n",
    "        print(f\"start training for fold {fold}\")\n",
    "\n",
    "        X_train = df.iloc[train_index].drop([\"count\"], axis=1)\n",
    "        y_train = df.iloc[train_index][\"count\"]\n",
    "\n",
    "        X_valid = df.iloc[valid_index].drop([\"count\"], axis=1)\n",
    "        y_valid = df.iloc[valid_index][\"count\"]\n",
    "\n",
    "        print(\"start training\")\n",
    "        params = {\n",
    "            \"objective\": CONFIG.objective,\n",
    "            \"seed\": CONFIG.seed,\n",
    "            \"learning_rate\": CONFIG.learning_rate,\n",
    "            \"num_leaves\": CONFIG.num_leaves,\n",
    "        }\n",
    "\n",
    "        train_set = lgb.Dataset(X_train, y_train)\n",
    "        valid_set = lgb.Dataset(X_valid, y_valid, reference=train_set)\n",
    "\n",
    "        model = lgb.train(\n",
    "            params=params,\n",
    "            train_set=train_set,\n",
    "            valid_sets=[train_set, valid_set],\n",
    "            num_boost_round=CONFIG.num_boost_round,\n",
    "            feval=feval_rmsle,\n",
    "            callbacks=[\n",
    "                lgb.early_stopping(stopping_rounds=CONFIG.early_stopping_rounds, verbose=True),\n",
    "                lgb.log_evaluation(period=CONFIG.period)\n",
    "            ]\n",
    "        )\n",
    "\n",
    "        print(f\"predict valid for fold {fold}\")\n",
    "        y_pred = model.predict(X_valid)\n",
    "        y_pred = np.clip(y_pred, 0, None)\n",
    "        y_pred = np.exp(y_pred)\n",
    "        y_valid = np.exp(y_valid)\n",
    "\n",
    "        fold_rmsles.append(np.sqrt(mean_squared_log_error(y_valid, y_pred)))\n",
    "\n",
    "        print(f\"save model for fold {fold}\")\n",
    "        model.save_model(model_path / f\"lgb_model_fold{fold+1:03d}.bin\", num_iteration=model.best_iteration)\n",
    "\n",
    "    return sum(fold_rmsles) / len(fold_rmsles)"
   ]
  },
  {
   "cell_type": "code",
   "execution_count": 248,
   "metadata": {},
   "outputs": [
    {
     "name": "stdout",
     "output_type": "stream",
     "text": [
      "start training for fold 0\n",
      "start training\n",
      "[LightGBM] [Info] Auto-choosing col-wise multi-threading, the overhead of testing was 0.000563 seconds.\n",
      "You can set `force_col_wise=true` to remove the overhead.\n",
      "[LightGBM] [Info] Total Bins 532\n",
      "[LightGBM] [Info] Number of data points in the train set: 8708, number of used features: 25\n",
      "[LightGBM] [Info] Start training from score 4.555325\n",
      "Training until validation scores don't improve for 10 rounds\n",
      "Early stopping, best iteration is:\n",
      "[824]\ttraining's l2: 0.0714847\ttraining's RMSLE: 0.0916075\tvalid_1's l2: 0.105844\tvalid_1's RMSLE: 0.110061\n",
      "predict valid for fold 0\n",
      "save model for fold 0\n",
      "start training for fold 1\n",
      "start training\n",
      "[LightGBM] [Info] Auto-choosing col-wise multi-threading, the overhead of testing was 0.000402 seconds.\n",
      "You can set `force_col_wise=true` to remove the overhead.\n",
      "[LightGBM] [Info] Total Bins 534\n",
      "[LightGBM] [Info] Number of data points in the train set: 8709, number of used features: 25\n",
      "[LightGBM] [Info] Start training from score 4.552386\n",
      "Training until validation scores don't improve for 10 rounds\n",
      "[1000]\ttraining's l2: 0.0677708\ttraining's RMSLE: 0.0896101\tvalid_1's l2: 0.0945621\tvalid_1's RMSLE: 0.104042\n",
      "Early stopping, best iteration is:\n",
      "[1080]\ttraining's l2: 0.0658786\ttraining's RMSLE: 0.0885678\tvalid_1's l2: 0.0936119\tvalid_1's RMSLE: 0.103773\n",
      "predict valid for fold 1\n",
      "save model for fold 1\n",
      "start training for fold 2\n",
      "start training\n",
      "[LightGBM] [Info] Auto-choosing col-wise multi-threading, the overhead of testing was 0.000410 seconds.\n",
      "You can set `force_col_wise=true` to remove the overhead.\n",
      "[LightGBM] [Info] Total Bins 534\n",
      "[LightGBM] [Info] Number of data points in the train set: 8709, number of used features: 25\n",
      "[LightGBM] [Info] Start training from score 4.562794\n",
      "Training until validation scores don't improve for 10 rounds\n",
      "Early stopping, best iteration is:\n",
      "[964]\ttraining's l2: 0.0653916\ttraining's RMSLE: 0.088064\tvalid_1's l2: 0.0982718\tvalid_1's RMSLE: 0.111085\n",
      "predict valid for fold 2\n",
      "save model for fold 2\n",
      "start training for fold 3\n",
      "start training\n",
      "[LightGBM] [Info] Auto-choosing col-wise multi-threading, the overhead of testing was 0.000383 seconds.\n",
      "You can set `force_col_wise=true` to remove the overhead.\n",
      "[LightGBM] [Info] Total Bins 534\n",
      "[LightGBM] [Info] Number of data points in the train set: 8709, number of used features: 25\n",
      "[LightGBM] [Info] Start training from score 4.532793\n",
      "Training until validation scores don't improve for 10 rounds\n",
      "Early stopping, best iteration is:\n",
      "[909]\ttraining's l2: 0.0682251\ttraining's RMSLE: 0.0908306\tvalid_1's l2: 0.0998808\tvalid_1's RMSLE: 0.104\n",
      "predict valid for fold 3\n",
      "save model for fold 3\n",
      "start training for fold 4\n",
      "start training\n",
      "[LightGBM] [Info] Auto-choosing col-wise multi-threading, the overhead of testing was 0.000450 seconds.\n",
      "You can set `force_col_wise=true` to remove the overhead.\n",
      "[LightGBM] [Info] Total Bins 532\n",
      "[LightGBM] [Info] Number of data points in the train set: 8709, number of used features: 25\n",
      "[LightGBM] [Info] Start training from score 4.559508\n",
      "Training until validation scores don't improve for 10 rounds\n",
      "Early stopping, best iteration is:\n",
      "[747]\ttraining's l2: 0.0734087\ttraining's RMSLE: 0.0925675\tvalid_1's l2: 0.103963\tvalid_1's RMSLE: 0.111645\n",
      "predict valid for fold 4\n",
      "save model for fold 4\n",
      "LightGBM RMSLE: 0.28672296876256603\n"
     ]
    }
   ],
   "source": [
    "train_rmsle = lgb_train(train_df, CONFIG.model_path)\n",
    "print(f\"LightGBM RMSLE: {train_rmsle}\")"
   ]
  },
  {
   "cell_type": "markdown",
   "metadata": {},
   "source": [
    "## XGBoost train"
   ]
  },
  {
   "cell_type": "code",
   "execution_count": 249,
   "metadata": {},
   "outputs": [],
   "source": [
    "def xgb_train(df, model_path):\n",
    "    kf = KFold(n_splits=CONFIG.n_splits, shuffle=True, random_state=CONFIG.seed)\n",
    "    fold_rmsles = []\n",
    "\n",
    "    for fold, (train_index, valid_index) in enumerate(kf.split(df)):\n",
    "        print(f\"start training for fold {fold}\")\n",
    "\n",
    "        X_train = df.iloc[train_index].drop([\"count\"], axis=1)\n",
    "        y_train = df.iloc[train_index][\"count\"]\n",
    "\n",
    "        X_valid = df.iloc[valid_index].drop([\"count\"], axis=1)\n",
    "        y_valid = df.iloc[valid_index][\"count\"]\n",
    "\n",
    "        print(\"start training\")\n",
    "        params = {\n",
    "            \"objective\": \"reg:squarederror\",\n",
    "            \"eval_metric\": \"rmsle\",\n",
    "            \"seed\": CONFIG.seed,\n",
    "            \"max_depth\": CONFIG.max_depth,\n",
    "            \"learning_rate\": CONFIG.learning_rate,\n",
    "        }\n",
    "\n",
    "        dtrain = xgb.DMatrix(X_train, label=y_train)\n",
    "        dvalid = xgb.DMatrix(X_valid, label=y_valid)\n",
    "\n",
    "        watchlist = [(dtrain, 'train'), (dvalid, 'valid')]\n",
    "\n",
    "        model = xgb.train(\n",
    "            params=params,\n",
    "            dtrain=dtrain,\n",
    "            evals=watchlist,\n",
    "            num_boost_round=CONFIG.num_boost_round,\n",
    "            early_stopping_rounds=CONFIG.early_stopping_rounds,\n",
    "            verbose_eval=CONFIG.period\n",
    "        )\n",
    "\n",
    "        print(f\"predict valid for fold {fold}\")\n",
    "        y_pred = model.predict(dvalid)\n",
    "        y_pred = np.clip(y_pred, 0, None)\n",
    "        y_pred = np.exp(y_pred)\n",
    "        y_valid = np.exp(y_valid)\n",
    "\n",
    "        fold_rmsles.append(np.sqrt(mean_squared_log_error(y_valid, y_pred)))\n",
    "\n",
    "        print(f\"save model for fold {fold}\")\n",
    "        model.save_model(model_path / f\"xgb_model_fold{fold+1:03d}.json\")\n",
    "\n",
    "    return sum(fold_rmsles) / len(fold_rmsles)"
   ]
  },
  {
   "cell_type": "code",
   "execution_count": 250,
   "metadata": {},
   "outputs": [
    {
     "name": "stdout",
     "output_type": "stream",
     "text": [
      "start training for fold 0\n",
      "start training\n",
      "[0]\ttrain-rmsle:0.35592\tvalid-rmsle:0.36516\n"
     ]
    },
    {
     "name": "stdout",
     "output_type": "stream",
     "text": [
      "[684]\ttrain-rmsle:0.08691\tvalid-rmsle:0.11263\n",
      "predict valid for fold 0\n",
      "save model for fold 0\n",
      "start training for fold 1\n",
      "start training\n",
      "[0]\ttrain-rmsle:0.36005\tvalid-rmsle:0.34826\n",
      "[948]\ttrain-rmsle:0.08289\tvalid-rmsle:0.10566\n",
      "predict valid for fold 1\n",
      "save model for fold 1\n",
      "start training for fold 2\n",
      "start training\n",
      "[0]\ttrain-rmsle:0.35640\tvalid-rmsle:0.36408\n",
      "[1000]\ttrain-rmsle:0.08077\tvalid-rmsle:0.11381\n",
      "[1021]\ttrain-rmsle:0.08048\tvalid-rmsle:0.11380\n",
      "predict valid for fold 2\n",
      "save model for fold 2\n",
      "start training for fold 3\n",
      "start training\n",
      "[0]\ttrain-rmsle:0.36158\tvalid-rmsle:0.33918\n",
      "[926]\ttrain-rmsle:0.08329\tvalid-rmsle:0.10444\n",
      "predict valid for fold 3\n",
      "save model for fold 3\n",
      "start training for fold 4\n",
      "start training\n",
      "[0]\ttrain-rmsle:0.35449\tvalid-rmsle:0.37124\n",
      "[1000]\ttrain-rmsle:0.07955\tvalid-rmsle:0.11416\n",
      "[1073]\ttrain-rmsle:0.07858\tvalid-rmsle:0.11403\n",
      "predict valid for fold 4\n",
      "save model for fold 4\n",
      "XGBoost RMSLE: 0.2866959003236071\n"
     ]
    }
   ],
   "source": [
    "train_rmsle = xgb_train(train_df, CONFIG.model_path)\n",
    "print(f\"XGBoost RMSLE: {train_rmsle}\")"
   ]
  },
  {
   "cell_type": "markdown",
   "metadata": {},
   "source": [
    "## LightGBM evaluate"
   ]
  },
  {
   "cell_type": "code",
   "execution_count": 251,
   "metadata": {},
   "outputs": [],
   "source": [
    "def lgb_evaluate(df, model_path):\n",
    "    predictions = []\n",
    "\n",
    "    for fold in range(CONFIG.n_splits):\n",
    "        print(f\"loading model for fold {fold}\")\n",
    "        model = lgb.Booster(model_file=model_path / f\"lgb_model_fold{fold+1:03d}.bin\")\n",
    "\n",
    "        print(f\"start evaluate for fold {fold}\")\n",
    "        X_test = df.copy()\n",
    "\n",
    "        print(f\"predict test for fold {fold}\")\n",
    "        y_pred = model.predict(X_test, num_iteration=model.best_iteration)\n",
    "        y_pred = np.clip(y_pred, 0, None)\n",
    "        y_pred = np.exp(y_pred)\n",
    "        predictions.append(y_pred)\n",
    "    \n",
    "    average_predictions = np.mean(predictions, axis=0)\n",
    "    return average_predictions"
   ]
  },
  {
   "cell_type": "code",
   "execution_count": 252,
   "metadata": {},
   "outputs": [
    {
     "name": "stdout",
     "output_type": "stream",
     "text": [
      "loading model for fold 0\n",
      "start evaluate for fold 0\n",
      "predict test for fold 0\n",
      "loading model for fold 1\n",
      "start evaluate for fold 1\n",
      "predict test for fold 1\n",
      "loading model for fold 2\n",
      "start evaluate for fold 2\n",
      "predict test for fold 2\n",
      "loading model for fold 3\n",
      "start evaluate for fold 3\n",
      "predict test for fold 3\n",
      "loading model for fold 4\n",
      "start evaluate for fold 4\n",
      "predict test for fold 4\n"
     ]
    },
    {
     "data": {
      "text/plain": [
       "array([  9.139125  ,   4.80230826,   3.11039984, ..., 134.46202552,\n",
       "        92.41835883,  54.12689239])"
      ]
     },
     "execution_count": 252,
     "metadata": {},
     "output_type": "execute_result"
    }
   ],
   "source": [
    "y_pred_lgb = lgb_evaluate(test_df, CONFIG.model_path)\n",
    "y_pred_lgb"
   ]
  },
  {
   "cell_type": "markdown",
   "metadata": {},
   "source": [
    "## XGBoost evaluate"
   ]
  },
  {
   "cell_type": "code",
   "execution_count": 253,
   "metadata": {},
   "outputs": [],
   "source": [
    "def xgb_evaluate(df, model_path):\n",
    "    predictions = []\n",
    "\n",
    "    for fold in range(CONFIG.n_splits):\n",
    "        print(f\"loading model for fold {fold}\")\n",
    "        model = xgb.Booster(model_file=model_path / f\"xgb_model_fold{fold+1:03d}.json\")\n",
    "\n",
    "        print(f\"start evaluate for fold {fold}\")\n",
    "        dtest = xgb.DMatrix(df)\n",
    "\n",
    "        print(f\"predict test for fold {fold}\")\n",
    "        y_pred = model.predict(dtest)\n",
    "        y_pred = np.clip(y_pred, 0, None)\n",
    "        y_pred = np.exp(y_pred)\n",
    "        predictions.append(y_pred)\n",
    "\n",
    "    average_predictions = np.mean(predictions, axis=0)\n",
    "    return average_predictions"
   ]
  },
  {
   "cell_type": "code",
   "execution_count": 254,
   "metadata": {},
   "outputs": [
    {
     "name": "stdout",
     "output_type": "stream",
     "text": [
      "loading model for fold 0\n",
      "start evaluate for fold 0\n",
      "predict test for fold 0\n",
      "loading model for fold 1\n",
      "start evaluate for fold 1\n",
      "predict test for fold 1\n",
      "loading model for fold 2\n",
      "start evaluate for fold 2\n",
      "predict test for fold 2\n",
      "loading model for fold 3\n",
      "start evaluate for fold 3\n",
      "predict test for fold 3\n",
      "loading model for fold 4\n",
      "start evaluate for fold 4\n",
      "predict test for fold 4\n"
     ]
    },
    {
     "data": {
      "text/plain": [
       "array([  9.506117,   4.997163,   3.422399, ..., 134.92032 ,  94.049194,\n",
       "        50.845192], dtype=float32)"
      ]
     },
     "execution_count": 254,
     "metadata": {},
     "output_type": "execute_result"
    }
   ],
   "source": [
    "y_pred_xgb = xgb_evaluate(test_df, CONFIG.model_path)\n",
    "y_pred_xgb"
   ]
  },
  {
   "cell_type": "markdown",
   "metadata": {},
   "source": [
    "## アンサンブル"
   ]
  },
  {
   "cell_type": "code",
   "execution_count": 255,
   "metadata": {},
   "outputs": [
    {
     "data": {
      "text/plain": [
       "array([  9.32262093,   4.89973554,   3.26639944, ..., 134.69117206,\n",
       "        93.23377658,  52.48604217])"
      ]
     },
     "execution_count": 255,
     "metadata": {},
     "output_type": "execute_result"
    }
   ],
   "source": [
    "y_pred = 0.5*y_pred_lgb + 0.5*y_pred_xgb\n",
    "y_pred"
   ]
  },
  {
   "cell_type": "code",
   "execution_count": 256,
   "metadata": {},
   "outputs": [],
   "source": [
    "submission = pd.read_csv(input_path / \"sampleSubmission.csv\")\n",
    "submission[\"count\"] = y_pred\n",
    "submission.to_csv(CONFIG.submission_path / f\"submission{CONFIG.exp_id}.csv\", index=False)"
   ]
  },
  {
   "cell_type": "markdown",
   "metadata": {},
   "source": [
    "## Result"
   ]
  },
  {
   "cell_type": "code",
   "execution_count": 257,
   "metadata": {},
   "outputs": [
    {
     "data": {
      "image/png": "[encoded data removed]",
      "text/plain": [
       "<Figure size 500x1000 with 1 Axes>"
      ]
     },
     "metadata": {},
     "output_type": "display_data"
    }
   ],
   "source": [
    "model = lgb.Booster(model_file=CONFIG.model_path / f\"lgb_model_fold001.bin\")\n",
    "importance_df = pd.DataFrame()\n",
    "\n",
    "importance_df[\"importance\"] = model.feature_importance(importance_type=\"gain\")\n",
    "importance_df[\"feature_name\"] = model.feature_name()\n",
    "importance_df = importance_df.sort_values(\"importance\", ascending=False)\n",
    "\n",
    "fig = plt.figure(figsize=(5, 10))\n",
    "sns.barplot(data=importance_df, x=\"importance\", y=\"feature_name\")\n",
    "plt.show()"
   ]
  },
  {
   "cell_type": "code",
   "execution_count": 258,
   "metadata": {},
   "outputs": [
    {
     "data": {
      "image/png": "[encoded data removed]",
      "text/plain": [
       "<Figure size 500x1000 with 1 Axes>"
      ]
     },
     "metadata": {},
     "output_type": "display_data"
    }
   ],
   "source": [
    "model = xgb.Booster(model_file=str(CONFIG.model_path / f\"xgb_model_fold001.json\"))\n",
    "importance_df = pd.DataFrame()\n",
    "\n",
    "importance_df[\"importance\"] = model.get_score(importance_type=\"gain\").values()\n",
    "importance_df[\"feature_name\"] = model.get_score(importance_type=\"gain\").keys()\n",
    "importance_df = importance_df.sort_values(\"importance\", ascending=False)\n",
    "\n",
    "fig = plt.figure(figsize=(5, 10))\n",
    "sns.barplot(data=importance_df, x=\"importance\", y=\"feature_name\")\n",
    "plt.show()"
   ]
  },
  {
   "cell_type": "code",
   "execution_count": null,
   "metadata": {},
   "outputs": [],
   "source": []
  }
 ],
 "metadata": {
  "kernelspec": {
   "display_name": ".venv",
   "language": "python",
   "name": "python3"
  },
  "language_info": {
   "codemirror_mode": {
    "name": "ipython",
    "version": 3
   },
   "file_extension": ".py",
   "mimetype": "text/x-python",
   "name": "python",
   "nbconvert_exporter": "python",
   "pygments_lexer": "ipython3",
   "version": "3.9.13"
  }
 },
 "nbformat": 4,
 "nbformat_minor": 2
}
