{
 "cells": [
  {
   "cell_type": "markdown",
   "metadata": {},
   "source": [
    "# exp008"
   ]
  },
  {
   "cell_type": "code",
   "execution_count": 17,
   "metadata": {},
   "outputs": [],
   "source": [
    "import numpy as np\n",
    "import pandas as pd\n",
    "from pathlib import Path\n",
    "import matplotlib.pyplot as plt\n",
    "import seaborn as sns\n",
    "from sklearn.model_selection import train_test_split, KFold\n",
    "from sklearn.metrics import mean_squared_log_error\n",
    "import lightgbm as lgb\n",
    "\n",
    "sns.set_style(\"darkgrid\")\n",
    "%matplotlib inline"
   ]
  },
  {
   "cell_type": "markdown",
   "metadata": {},
   "source": [
    "## 実験設定"
   ]
  },
  {
   "cell_type": "code",
   "execution_count": 18,
   "metadata": {},
   "outputs": [],
   "source": [
    "class CONFIG:\n",
    "    seed = 42\n",
    "    n_splits = 5\n",
    "    num_boost_round = 10000\n",
    "    early_stopping_rounds = 10\n",
    "    learning_rate = 0.01\n",
    "    objective = \"regression\"\n",
    "    num_leaves = 32\n",
    "    period = 1000\n",
    "    exp_id = \"008\"\n",
    "    model_path = Path(f\"../output/model{exp_id}\")\n",
    "    model_path.mkdir(parents=True, exist_ok=True)\n",
    "    submission_path = Path(f\"../output/submission\")"
   ]
  },
  {
   "cell_type": "markdown",
   "metadata": {},
   "source": [
    "## データセットの読み込み"
   ]
  },
  {
   "cell_type": "code",
   "execution_count": 19,
   "metadata": {},
   "outputs": [],
   "source": [
    "input_path = Path(\"../input\")\n",
    "\n",
    "train_df = pd.read_parquet(input_path / \"train.parquet\")\n",
    "test_df = pd.read_parquet(input_path / \"test.parquet\")"
   ]
  },
  {
   "cell_type": "markdown",
   "metadata": {},
   "source": [
    "## RMSLEの定義"
   ]
  },
  {
   "cell_type": "code",
   "execution_count": 20,
   "metadata": {},
   "outputs": [],
   "source": [
    "def feval_rmsle(preds, data):\n",
    "    y_true = data.get_label()\n",
    "    preds = np.clip(preds, 0, None)  # 0より小さい値を0に置換\n",
    "    rmsle = np.sqrt(mean_squared_log_error(y_true, preds))\n",
    "    return 'RMSLE', rmsle, False"
   ]
  },
  {
   "cell_type": "markdown",
   "metadata": {},
   "source": [
    "## 特徴量エンジニアリング"
   ]
  },
  {
   "cell_type": "code",
   "execution_count": 21,
   "metadata": {},
   "outputs": [],
   "source": [
    "df = pd.concat([train_df, test_df], axis=0, sort=False).reset_index(drop=True)\n",
    "df = df.drop([\"casual\", \"registered\"], axis=1)"
   ]
  },
  {
   "cell_type": "code",
   "execution_count": 22,
   "metadata": {},
   "outputs": [],
   "source": [
    "datetime = pd.to_datetime(df[\"datetime\"])\n",
    "df[\"year\"] = datetime.dt.year\n",
    "df[\"month\"] = datetime.dt.month\n",
    "df[\"day\"] = datetime.dt.day\n",
    "df[\"hour\"] = datetime.dt.hour\n",
    "df[\"dayofweek\"] = datetime.dt.day_name()\n",
    "df[\"dayofweek\"] = df[\"dayofweek\"].map({\"Monday\": 0, \"Tuesday\": 1, \"Wednesday\": 2, \"Thursday\": 3, \"Friday\": 4, \"Saturday\": 5, \"Sunday\": 6})\n",
    "df = df.drop(\"datetime\", axis=1)"
   ]
  },
  {
   "cell_type": "code",
   "execution_count": 23,
   "metadata": {},
   "outputs": [],
   "source": [
    "df[\"count\"] = df[\"count\"].apply(lambda x: np.log(x))"
   ]
  },
  {
   "cell_type": "code",
   "execution_count": 24,
   "metadata": {},
   "outputs": [],
   "source": [
    "df['peak'] = df[['hour', 'workingday']].apply(lambda x: 1 if (x['workingday'] == 1 and (x['hour'] == 8 or 17 <= x['hour'] <= 18  or 12 <= x['hour'] <= 13)) \\\n",
    "                                        or (x['workingday'] == 0 and 10 <= x['hour'] <= 19) else 0, axis=1)"
   ]
  },
  {
   "cell_type": "code",
   "execution_count": 25,
   "metadata": {},
   "outputs": [],
   "source": [
    "df = df.drop([\"day\", \"windspeed\", \"holiday\"], axis=1)"
   ]
  },
  {
   "cell_type": "code",
   "execution_count": 26,
   "metadata": {},
   "outputs": [],
   "source": [
    "train_df = df[~df[\"count\"].isnull()].reset_index(drop=True)\n",
    "test_df = df[df[\"count\"].isnull()].drop(\"count\", axis=1).reset_index(drop=True)"
   ]
  },
  {
   "cell_type": "markdown",
   "metadata": {},
   "source": [
    "## train"
   ]
  },
  {
   "cell_type": "code",
   "execution_count": 27,
   "metadata": {},
   "outputs": [],
   "source": [
    "def train(df, model_path):\n",
    "    kf = KFold(n_splits=CONFIG.n_splits, shuffle=True, random_state=CONFIG.seed)\n",
    "    fold_rmsles = []\n",
    "\n",
    "    for fold, (train_index, valid_index) in enumerate(kf.split(df)):\n",
    "        print(f\"start training for fold {fold}\")\n",
    "\n",
    "        X_train = df.iloc[train_index].drop([\"count\"], axis=1)\n",
    "        y_train = df.iloc[train_index][\"count\"]\n",
    "\n",
    "        X_valid = df.iloc[valid_index].drop([\"count\"], axis=1)\n",
    "        y_valid = df.iloc[valid_index][\"count\"]\n",
    "\n",
    "        print(\"start training\")\n",
    "        params = {\n",
    "            \"objective\": CONFIG.objective,\n",
    "            \"seed\": CONFIG.seed,\n",
    "            \"learning_rate\": CONFIG.learning_rate,\n",
    "            \"num_leaves\": CONFIG.num_leaves,\n",
    "        }\n",
    "\n",
    "        train_set = lgb.Dataset(X_train, y_train)\n",
    "        valid_set = lgb.Dataset(X_valid, y_valid, reference=train_set)\n",
    "\n",
    "        model = lgb.train(\n",
    "            params=params,\n",
    "            train_set=train_set,\n",
    "            valid_sets=[train_set, valid_set],\n",
    "            num_boost_round=CONFIG.num_boost_round,\n",
    "            feval=feval_rmsle,\n",
    "            callbacks=[\n",
    "                lgb.early_stopping(stopping_rounds=CONFIG.early_stopping_rounds, verbose=True),\n",
    "                lgb.log_evaluation(period=CONFIG.period)\n",
    "            ]\n",
    "        )\n",
    "\n",
    "        print(f\"predict valid for fold {fold}\")\n",
    "        y_pred = model.predict(X_valid)\n",
    "        y_pred = np.clip(y_pred, 0, None)\n",
    "        y_pred = np.exp(y_pred)\n",
    "        y_valid = np.exp(y_valid)\n",
    "\n",
    "        fold_rmsles.append(np.sqrt(mean_squared_log_error(y_valid, y_pred)))\n",
    "\n",
    "        print(f\"save model for fold {fold}\")\n",
    "        model.save_model(model_path / f\"model_fold{fold+1:03d}.bin\", num_iteration=model.best_iteration)\n",
    "\n",
    "    return sum(fold_rmsles) / len(fold_rmsles)"
   ]
  },
  {
   "cell_type": "code",
   "execution_count": 28,
   "metadata": {},
   "outputs": [
    {
     "name": "stdout",
     "output_type": "stream",
     "text": [
      "start training for fold 0\n",
      "start training\n",
      "[LightGBM] [Info] Auto-choosing col-wise multi-threading, the overhead of testing was 0.000202 seconds.\n",
      "You can set `force_col_wise=true` to remove the overhead.\n",
      "[LightGBM] [Info] Total Bins 249\n",
      "[LightGBM] [Info] Number of data points in the train set: 8708, number of used features: 11\n",
      "[LightGBM] [Info] Start training from score 4.555325\n",
      "Training until validation scores don't improve for 10 rounds\n",
      "Early stopping, best iteration is:\n",
      "[919]\ttraining's l2: 0.074022\ttraining's RMSLE: 0.0935676\tvalid_1's l2: 0.100657\tvalid_1's RMSLE: 0.109184\n",
      "predict valid for fold 0\n",
      "save model for fold 0\n",
      "start training for fold 1\n",
      "start training\n",
      "[LightGBM] [Info] Auto-choosing row-wise multi-threading, the overhead of testing was 0.000050 seconds.\n",
      "You can set `force_row_wise=true` to remove the overhead.\n",
      "And if memory is not enough, you can set `force_col_wise=true`.\n",
      "[LightGBM] [Info] Total Bins 250\n",
      "[LightGBM] [Info] Number of data points in the train set: 8709, number of used features: 11\n",
      "[LightGBM] [Info] Start training from score 4.552386\n",
      "Training until validation scores don't improve for 10 rounds\n",
      "[1000]\ttraining's l2: 0.0726776\ttraining's RMSLE: 0.0930635\tvalid_1's l2: 0.0952815\tvalid_1's RMSLE: 0.102504\n",
      "Early stopping, best iteration is:\n",
      "[1163]\ttraining's l2: 0.0689465\ttraining's RMSLE: 0.090819\tvalid_1's l2: 0.0936197\tvalid_1's RMSLE: 0.101839\n",
      "predict valid for fold 1\n",
      "save model for fold 1\n",
      "start training for fold 2\n",
      "start training\n",
      "[LightGBM] [Info] Auto-choosing row-wise multi-threading, the overhead of testing was 0.000058 seconds.\n",
      "You can set `force_row_wise=true` to remove the overhead.\n",
      "And if memory is not enough, you can set `force_col_wise=true`.\n",
      "[LightGBM] [Info] Total Bins 251\n",
      "[LightGBM] [Info] Number of data points in the train set: 8709, number of used features: 11\n",
      "[LightGBM] [Info] Start training from score 4.562794\n",
      "Training until validation scores don't improve for 10 rounds\n",
      "[1000]\ttraining's l2: 0.0705428\ttraining's RMSLE: 0.0912921\tvalid_1's l2: 0.100955\tvalid_1's RMSLE: 0.112151\n",
      "Early stopping, best iteration is:\n",
      "[1139]\ttraining's l2: 0.0673202\ttraining's RMSLE: 0.0894955\tvalid_1's l2: 0.0999261\tvalid_1's RMSLE: 0.111774\n",
      "predict valid for fold 2\n",
      "save model for fold 2\n",
      "start training for fold 3\n",
      "start training\n",
      "[LightGBM] [Info] Auto-choosing row-wise multi-threading, the overhead of testing was 0.000092 seconds.\n",
      "You can set `force_row_wise=true` to remove the overhead.\n",
      "And if memory is not enough, you can set `force_col_wise=true`.\n",
      "[LightGBM] [Info] Total Bins 250\n",
      "[LightGBM] [Info] Number of data points in the train set: 8709, number of used features: 11\n",
      "[LightGBM] [Info] Start training from score 4.532793\n",
      "Training until validation scores don't improve for 10 rounds\n",
      "[1000]\ttraining's l2: 0.0716649\ttraining's RMSLE: 0.093595\tvalid_1's l2: 0.100284\tvalid_1's RMSLE: 0.104281\n",
      "Early stopping, best iteration is:\n",
      "[1095]\ttraining's l2: 0.0694231\ttraining's RMSLE: 0.0922096\tvalid_1's l2: 0.0992462\tvalid_1's RMSLE: 0.103987\n",
      "predict valid for fold 3\n",
      "save model for fold 3\n",
      "start training for fold 4\n",
      "start training\n",
      "[LightGBM] [Info] Auto-choosing row-wise multi-threading, the overhead of testing was 0.000059 seconds.\n",
      "You can set `force_row_wise=true` to remove the overhead.\n",
      "And if memory is not enough, you can set `force_col_wise=true`.\n",
      "[LightGBM] [Info] Total Bins 249\n",
      "[LightGBM] [Info] Number of data points in the train set: 8709, number of used features: 11\n",
      "[LightGBM] [Info] Start training from score 4.559508\n",
      "Training until validation scores don't improve for 10 rounds\n",
      "Early stopping, best iteration is:\n",
      "[971]\ttraining's l2: 0.07167\ttraining's RMSLE: 0.0923518\tvalid_1's l2: 0.101363\tvalid_1's RMSLE: 0.110737\n",
      "predict valid for fold 4\n",
      "save model for fold 4\n",
      "RMSLE: 0.28481298421844964\n"
     ]
    }
   ],
   "source": [
    "train_rmsle = train(train_df, CONFIG.model_path)\n",
    "print(f\"RMSLE: {train_rmsle}\")"
   ]
  },
  {
   "cell_type": "markdown",
   "metadata": {},
   "source": [
    "## evaluate"
   ]
  },
  {
   "cell_type": "code",
   "execution_count": 29,
   "metadata": {},
   "outputs": [],
   "source": [
    "def evaluate(df, model_path):\n",
    "    predictions = []\n",
    "\n",
    "    for fold in range(CONFIG.n_splits):\n",
    "        print(f\"loading model for fold {fold}\")\n",
    "        model = lgb.Booster(model_file=model_path / f\"model_fold{fold+1:03d}.bin\")\n",
    "\n",
    "        print(f\"start evaluate for fold {fold}\")\n",
    "        X_test = df.copy()\n",
    "\n",
    "        print(f\"predict test for fold {fold}\")\n",
    "        y_pred = model.predict(X_test, num_iteration=model.best_iteration)\n",
    "        y_pred = np.clip(y_pred, 0, None)\n",
    "        y_pred = np.exp(y_pred)\n",
    "        predictions.append(y_pred)\n",
    "    \n",
    "    average_predictions = np.mean(predictions, axis=0)\n",
    "    return average_predictions"
   ]
  },
  {
   "cell_type": "code",
   "execution_count": 30,
   "metadata": {},
   "outputs": [
    {
     "name": "stdout",
     "output_type": "stream",
     "text": [
      "loading model for fold 0\n",
      "start evaluate for fold 0\n",
      "predict test for fold 0\n",
      "loading model for fold 1\n",
      "start evaluate for fold 1\n",
      "predict test for fold 1\n",
      "loading model for fold 2\n",
      "start evaluate for fold 2\n",
      "predict test for fold 2\n",
      "loading model for fold 3\n",
      "start evaluate for fold 3\n",
      "predict test for fold 3\n",
      "loading model for fold 4\n",
      "start evaluate for fold 4\n",
      "predict test for fold 4\n"
     ]
    },
    {
     "data": {
      "text/plain": [
       "array([  9.14121412,   4.54509511,   2.96708986, ..., 126.19453531,\n",
       "        94.04359109,  55.87988052])"
      ]
     },
     "execution_count": 30,
     "metadata": {},
     "output_type": "execute_result"
    }
   ],
   "source": [
    "y_pred = evaluate(test_df, CONFIG.model_path)\n",
    "y_pred"
   ]
  },
  {
   "cell_type": "code",
   "execution_count": 31,
   "metadata": {},
   "outputs": [],
   "source": [
    "submission = pd.read_csv(input_path / \"sampleSubmission.csv\")\n",
    "submission[\"count\"] = y_pred\n",
    "submission.to_csv(CONFIG.submission_path / f\"submission{CONFIG.exp_id}.csv\", index=False)"
   ]
  },
  {
   "cell_type": "markdown",
   "metadata": {},
   "source": [
    "## Result"
   ]
  },
  {
   "cell_type": "code",
   "execution_count": 32,
   "metadata": {},
   "outputs": [
    {
     "data": {
      "image/png": "[encoded data removed]",
      "text/plain": [
       "<Figure size 500x1000 with 1 Axes>"
      ]
     },
     "metadata": {},
     "output_type": "display_data"
    }
   ],
   "source": [
    "model = lgb.Booster(model_file=CONFIG.model_path / f\"model_fold001.bin\")\n",
    "importance_df = pd.DataFrame()\n",
    "\n",
    "importance_df[\"importance\"] = model.feature_importance(importance_type=\"gain\")\n",
    "importance_df[\"feature_name\"] = model.feature_name()\n",
    "importance_df = importance_df.sort_values(\"importance\", ascending=False)\n",
    "\n",
    "fig = plt.figure(figsize=(5, 10))\n",
    "sns.barplot(data=importance_df, x=\"importance\", y=\"feature_name\")\n",
    "plt.show()"
   ]
  },
  {
   "cell_type": "code",
   "execution_count": null,
   "metadata": {},
   "outputs": [],
   "source": []
  }
 ],
 "metadata": {
  "kernelspec": {
   "display_name": ".venv",
   "language": "python",
   "name": "python3"
  },
  "language_info": {
   "codemirror_mode": {
    "name": "ipython",
    "version": 3
   },
   "file_extension": ".py",
   "mimetype": "text/x-python",
   "name": "python",
   "nbconvert_exporter": "python",
   "pygments_lexer": "ipython3",
   "version": "3.9.13"
  }
 },
 "nbformat": 4,
 "nbformat_minor": 2
}
