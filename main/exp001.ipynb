{
 "cells": [
  {
   "cell_type": "markdown",
   "metadata": {},
   "source": [
    "# exp001"
   ]
  },
  {
   "cell_type": "code",
   "execution_count": 57,
   "metadata": {},
   "outputs": [],
   "source": [
    "import numpy as np\n",
    "import pandas as pd\n",
    "from pathlib import Path\n",
    "import matplotlib.pyplot as plt\n",
    "import seaborn as sns\n",
    "from sklearn.model_selection import train_test_split\n",
    "from sklearn.metrics import mean_squared_log_error\n",
    "import lightgbm as lgb\n",
    "\n",
    "sns.set_style(\"darkgrid\")\n",
    "%matplotlib inline"
   ]
  },
  {
   "cell_type": "markdown",
   "metadata": {},
   "source": [
    "## データセットの読み込み"
   ]
  },
  {
   "cell_type": "code",
   "execution_count": 58,
   "metadata": {},
   "outputs": [],
   "source": [
    "input_path = Path(\"../input\")\n",
    "\n",
    "train_df = pd.read_parquet(input_path / \"train.parquet\")\n",
    "test_df = pd.read_parquet(input_path / \"test.parquet\")"
   ]
  },
  {
   "cell_type": "markdown",
   "metadata": {},
   "source": [
    "## RMSLEの定義"
   ]
  },
  {
   "cell_type": "code",
   "execution_count": 59,
   "metadata": {},
   "outputs": [],
   "source": [
    "def feval_rmsle(preds, data):\n",
    "    y_true = data.get_label()\n",
    "    rmsle = np.sqrt(mean_squared_log_error(y_true, preds))\n",
    "    return 'RMSLE', rmsle, False"
   ]
  },
  {
   "cell_type": "markdown",
   "metadata": {},
   "source": [
    "## train"
   ]
  },
  {
   "cell_type": "code",
   "execution_count": 75,
   "metadata": {},
   "outputs": [],
   "source": [
    "def train(df, model_path):\n",
    "    print(\"start training\")\n",
    "\n",
    "    print(\"preprocess\")\n",
    "    X_train, X_valid = train_test_split(df, test_size=0.2, random_state=42)\n",
    "\n",
    "    y_train = X_train[\"count\"]\n",
    "    y_valid = X_valid[\"count\"]\n",
    "    X_train.drop([\"count\", \"datetime\", \"casual\", \"registered\"], axis=1, inplace=True)\n",
    "    X_valid.drop([\"count\", \"datetime\", \"casual\", \"registered\"], axis=1, inplace=True)\n",
    "\n",
    "    print(\"start training\")\n",
    "    params = {\n",
    "        \"objective\": \"regression\",\n",
    "        \"seed\": 42,\n",
    "        \"learning_rate\": 0.05,\n",
    "        \"num_leaves\": 32,\n",
    "    }\n",
    "\n",
    "    train_set = lgb.Dataset(X_train, y_train)\n",
    "    valid_set = lgb.Dataset(X_valid, y_valid, reference=train_set)\n",
    "\n",
    "    model = lgb.train(\n",
    "        params=params,\n",
    "        train_set=train_set,\n",
    "        valid_sets=[train_set, valid_set],\n",
    "        num_boost_round=10000,\n",
    "        feval=feval_rmsle,\n",
    "        callbacks=[\n",
    "            lgb.early_stopping(stopping_rounds=10, verbose=True),\n",
    "            lgb.log_evaluation(period=10)\n",
    "        ]\n",
    "    )\n",
    "\n",
    "    print(\"predict valid\")\n",
    "    y_pred = model.predict(X_valid)\n",
    "\n",
    "    print(\"save model\")\n",
    "    model.save_model(model_path, num_iteration=model.best_iteration)\n",
    "\n",
    "    return np.sqrt(mean_squared_log_error(y_valid, y_pred))"
   ]
  },
  {
   "cell_type": "code",
   "execution_count": 77,
   "metadata": {},
   "outputs": [
    {
     "name": "stdout",
     "output_type": "stream",
     "text": [
      "start training\n",
      "preprocess\n",
      "start training\n",
      "[LightGBM] [Info] Auto-choosing row-wise multi-threading, the overhead of testing was 0.000076 seconds.\n",
      "You can set `force_row_wise=true` to remove the overhead.\n",
      "And if memory is not enough, you can set `force_col_wise=true`.\n",
      "[LightGBM] [Info] Total Bins 227\n",
      "[LightGBM] [Info] Number of data points in the train set: 8708, number of used features: 8\n",
      "[LightGBM] [Info] Start training from score 191.584750\n",
      "Training until validation scores don't improve for 10 rounds\n",
      "[10]\ttraining's l2: 25732\ttraining's RMSLE: 1.46767\tvalid_1's l2: 26078.8\tvalid_1's RMSLE: 1.48843\n",
      "[20]\ttraining's l2: 22854.5\ttraining's RMSLE: 1.40697\tvalid_1's l2: 23320.1\tvalid_1's RMSLE: 1.42752\n",
      "[30]\ttraining's l2: 21451.2\ttraining's RMSLE: 1.36495\tvalid_1's l2: 22149.8\tvalid_1's RMSLE: 1.38776\n",
      "[40]\ttraining's l2: 20626.7\ttraining's RMSLE: 1.33564\tvalid_1's l2: 21576.2\tvalid_1's RMSLE: 1.36209\n",
      "[50]\ttraining's l2: 20108.2\ttraining's RMSLE: 1.31491\tvalid_1's l2: 21296.2\tvalid_1's RMSLE: 1.34471\n",
      "[60]\ttraining's l2: 19738.3\ttraining's RMSLE: 1.2992\tvalid_1's l2: 21161.8\tvalid_1's RMSLE: 1.33262\n",
      "[70]\ttraining's l2: 19430.8\ttraining's RMSLE: 1.28887\tvalid_1's l2: 21016.8\tvalid_1's RMSLE: 1.32417\n",
      "[80]\ttraining's l2: 19187.3\ttraining's RMSLE: 1.28036\tvalid_1's l2: 20940.2\tvalid_1's RMSLE: 1.31802\n",
      "[90]\ttraining's l2: 18963\ttraining's RMSLE: 1.27298\tvalid_1's l2: 20919.1\tvalid_1's RMSLE: 1.31359\n",
      "Early stopping, best iteration is:\n",
      "[87]\ttraining's l2: 19029.7\ttraining's RMSLE: 1.27528\tvalid_1's l2: 20917\tvalid_1's RMSLE: 1.31443\n",
      "predict valid\n",
      "save model\n",
      "RMSLE: 1.3144342441425931\n"
     ]
    }
   ],
   "source": [
    "model_path = \"../output/model001.bin\"\n",
    "\n",
    "train_rmsle = train(train_df, model_path)\n",
    "print(f\"RMSLE: {train_rmsle}\")"
   ]
  },
  {
   "cell_type": "markdown",
   "metadata": {},
   "source": [
    "## evaluate"
   ]
  },
  {
   "cell_type": "code",
   "execution_count": 76,
   "metadata": {},
   "outputs": [],
   "source": [
    "def evaluate(df, model_path):\n",
    "    print(\"loading model\")\n",
    "    model = lgb.Booster(model_file=model_path)\n",
    "\n",
    "    print(\"start evaluate\")\n",
    "    X_test = df.drop([\"datetime\"], axis=1)\n",
    "\n",
    "    print(\"predict test\")\n",
    "    y_pred = model.predict(X_test, num_iteration=model.best_iteration)\n",
    "\n",
    "    return y_pred"
   ]
  },
  {
   "cell_type": "code",
   "execution_count": 78,
   "metadata": {},
   "outputs": [
    {
     "name": "stdout",
     "output_type": "stream",
     "text": [
      "loading model\n",
      "start evaluate\n",
      "predict test\n"
     ]
    },
    {
     "data": {
      "text/plain": [
       "array([103.96623189,  70.61997497,  70.61997497, ...,  90.47492097,\n",
       "        88.09277461,  84.45551107])"
      ]
     },
     "execution_count": 78,
     "metadata": {},
     "output_type": "execute_result"
    }
   ],
   "source": [
    "y_pred = evaluate(test_df, model_path)\n",
    "y_pred"
   ]
  },
  {
   "cell_type": "code",
   "execution_count": 79,
   "metadata": {},
   "outputs": [],
   "source": [
    "submission = pd.read_csv(input_path / \"sampleSubmission.csv\")\n",
    "submission[\"count\"] = y_pred\n",
    "submission.to_csv(\"../output/submission001.csv\", index=False)"
   ]
  },
  {
   "cell_type": "markdown",
   "metadata": {},
   "source": [
    "## Result"
   ]
  },
  {
   "cell_type": "code",
   "execution_count": 82,
   "metadata": {},
   "outputs": [
    {
     "data": {
      "image/png": "[encoded data removed]",
      "text/plain": [
       "<Figure size 500x1000 with 1 Axes>"
      ]
     },
     "metadata": {},
     "output_type": "display_data"
    }
   ],
   "source": [
    "model = lgb.Booster(model_file=model_path)\n",
    "importance_df = pd.DataFrame()\n",
    "\n",
    "importance_df[\"importance\"] = model.feature_importance(importance_type=\"gain\")\n",
    "importance_df[\"feature_name\"] = model.feature_name()\n",
    "importance_df = importance_df.sort_values(\"importance\", ascending=False)\n",
    "\n",
    "fig = plt.figure(figsize=(5, 10))\n",
    "sns.barplot(data=importance_df, x=\"importance\", y=\"feature_name\")\n",
    "plt.show()"
   ]
  },
  {
   "cell_type": "code",
   "execution_count": null,
   "metadata": {},
   "outputs": [],
   "source": []
  }
 ],
 "metadata": {
  "kernelspec": {
   "display_name": ".venv",
   "language": "python",
   "name": "python3"
  },
  "language_info": {
   "codemirror_mode": {
    "name": "ipython",
    "version": 3
   },
   "file_extension": ".py",
   "mimetype": "text/x-python",
   "name": "python",
   "nbconvert_exporter": "python",
   "pygments_lexer": "ipython3",
   "version": "3.9.13"
  }
 },
 "nbformat": 4,
 "nbformat_minor": 2
}
